{
  "nbformat": 4,
  "nbformat_minor": 0,
  "metadata": {
    "colab": {
      "provenance": []
    },
    "kernelspec": {
      "name": "python3",
      "display_name": "Python 3"
    },
    "language_info": {
      "name": "python"
    }
  },
  "cells": [
    {
      "cell_type": "markdown",
      "source": [
        "**Generate random samples from various distributions**"
      ],
      "metadata": {
        "id": "ozsIjU9otKbD"
      }
    },
    {
      "cell_type": "code",
      "execution_count": 3,
      "metadata": {
        "id": "bD9hRVZAs-mG"
      },
      "outputs": [],
      "source": [
        "import numpy as np"
      ]
    },
    {
      "cell_type": "code",
      "source": [
        "np.random.seed(42)"
      ],
      "metadata": {
        "id": "uQJmQTgAtQBt"
      },
      "execution_count": 4,
      "outputs": []
    },
    {
      "cell_type": "code",
      "source": [
        "normal_samples = np.random.normal(loc =0,scale=1,size=1000) ## Normal distribution (mean=0, std=1)"
      ],
      "metadata": {
        "id": "Y_wQvIrPtV8y"
      },
      "execution_count": 5,
      "outputs": []
    },
    {
      "cell_type": "code",
      "source": [
        "uniform_samples = np.random.uniform(low =0.0,high =1.0,size =1000) ## Uniform distribution (low=0, high=1"
      ],
      "metadata": {
        "id": "1d1reXFbtV5q"
      },
      "execution_count": 6,
      "outputs": []
    },
    {
      "cell_type": "code",
      "source": [
        "binomial_samples = np.random.binomial(n=10,p=0.5,size=1000) ## Binomial distribution (n=10, p=0.5)"
      ],
      "metadata": {
        "id": "fWnIndwItV22"
      },
      "execution_count": 7,
      "outputs": []
    },
    {
      "cell_type": "markdown",
      "source": [
        "**b. Create large multidimensional arrays to simulate complex dat**"
      ],
      "metadata": {
        "id": "yfbI6blct8Cx"
      }
    },
    {
      "cell_type": "code",
      "source": [
        "large_array=np.random.randint(0,100,size=(100,100,100))"
      ],
      "metadata": {
        "id": "L23VCiIitVzr"
      },
      "execution_count": 8,
      "outputs": []
    },
    {
      "cell_type": "markdown",
      "source": [
        "Explanation:\n",
        "\n",
        "np.random.seed(42) ensures that the random numbers are reproducible.\n",
        "Normal Distribution: Simulates data that follows a bell curve.\n",
        "Uniform Distribution: Simulates data where every number has an equal chance.\n",
        "Binomial Distribution: Useful for simulating scenarios with two outcomes (e.g., success/failure).\n",
        "Large Array: Simulates complex, multidimensional data.\n"
      ],
      "metadata": {
        "id": "xYSrBXzVuRGa"
      }
    },
    {
      "cell_type": "markdown",
      "source": [
        "**Master array creation and reshaping.**"
      ],
      "metadata": {
        "id": "j84J-dhSueko"
      }
    },
    {
      "cell_type": "markdown",
      "source": [
        "General Format: np.arange(start, stop, step)\n",
        "Key Notes:\n",
        "Creates an array with evenly spaced values within a specified interval.\n",
        "start: Starting value of the sequence.\n",
        "stop: End value of the sequence (exclusive).\n",
        "step: Spacing between values.\n"
      ],
      "metadata": {
        "id": "_OTMP_Lx7TTS"
      }
    },
    {
      "cell_type": "code",
      "source": [
        "#using arange\n",
        "array_arange =np.arange(0,10,1)\n",
        "print(array_arange)"
      ],
      "metadata": {
        "colab": {
          "base_uri": "https://localhost:8080/"
        },
        "id": "pequivZGtVwG",
        "outputId": "dab63e11-801e-4fc6-bf63-d2e90fd58823"
      },
      "execution_count": 20,
      "outputs": [
        {
          "output_type": "stream",
          "name": "stdout",
          "text": [
            "[0 1 2 3 4 5 6 7 8 9]\n"
          ]
        }
      ]
    },
    {
      "cell_type": "markdown",
      "source": [
        "General Format: np.linspace(start, stop, num)\n",
        "Key Notes:\n",
        "Generates an array of evenly spaced numbers over a specified interval.\n",
        "start: Starting value of the sequence.\n",
        "stop: End value of the sequence (inclusive).\n",
        "num: Number of samples to generate"
      ],
      "metadata": {
        "id": "oZg1iF8V7V2R"
      }
    },
    {
      "cell_type": "code",
      "source": [
        "array_linspace =np.linspace(0,1,5)\n",
        "print(array_linspace)"
      ],
      "metadata": {
        "colab": {
          "base_uri": "https://localhost:8080/"
        },
        "id": "hqp-MtSXuvYY",
        "outputId": "dd06ce5c-cf22-40c5-e545-05ffc4025d19"
      },
      "execution_count": 19,
      "outputs": [
        {
          "output_type": "stream",
          "name": "stdout",
          "text": [
            "[0.   0.25 0.5  0.75 1.  ]\n"
          ]
        }
      ]
    },
    {
      "cell_type": "markdown",
      "source": [
        "General Format: np.zeros(shape)\n",
        "Key Notes:\n",
        "Returns a new array of given shape filled with zeros.\n",
        "shape: Tuple indicating the dimensions of the array."
      ],
      "metadata": {
        "id": "YhdxgIqw7WQW"
      }
    },
    {
      "cell_type": "code",
      "source": [
        "array_zeros =np.zeros((3,3))"
      ],
      "metadata": {
        "id": "LP_50S6puvVA"
      },
      "execution_count": 11,
      "outputs": []
    },
    {
      "cell_type": "markdown",
      "source": [
        "General Format: np.ones(shape)\n",
        "Key Notes:\n",
        "Returns a new array of given shape filled with ones.\n",
        "shape: Tuple indicating the dimensions of the array."
      ],
      "metadata": {
        "id": "O8ZwFPJ47ngh"
      }
    },
    {
      "cell_type": "code",
      "source": [
        "array_ones =np.ones((2,4))"
      ],
      "metadata": {
        "id": "ocKMNbvquvR9"
      },
      "execution_count": 12,
      "outputs": []
    },
    {
      "cell_type": "markdown",
      "source": [
        "General Format: np.empty(shape)\n",
        "Key Notes:\n",
        "Returns a new array of given shape without initializing entries.\n",
        "shape: Tuple indicating the dimensions of the array.\n",
        "Note: The contents are uninitialized and may contain arbitrary data."
      ],
      "metadata": {
        "id": "SLspDsuc7rIy"
      }
    },
    {
      "cell_type": "code",
      "source": [
        "array_empty =np.empty((2,2))"
      ],
      "metadata": {
        "id": "H9QNfB9xuvOx"
      },
      "execution_count": 13,
      "outputs": []
    },
    {
      "cell_type": "markdown",
      "source": [
        "**b. Perform reshaping, resizing, and flattening of arrays**\n",
        "\n"
      ],
      "metadata": {
        "id": "L0KhxAlOvN_R"
      }
    },
    {
      "cell_type": "code",
      "source": [
        "\n",
        "original_array = np.arange(12)\n",
        "\n"
      ],
      "metadata": {
        "id": "l-6NPVy-uvLs"
      },
      "execution_count": 14,
      "outputs": []
    },
    {
      "cell_type": "markdown",
      "source": [
        "General Format: array.reshape(new_shape)\n",
        "\n",
        "Key Notes:\n",
        "Changes the shape of an array without changing its\n",
        "data.\n",
        "new_shape: Tuple indicating the desired dimensions.\n",
        "Total number of elements must remain the same.\n",
        "\n",
        "\n",
        "\n"
      ],
      "metadata": {
        "id": "heuLyw3e8WtF"
      }
    },
    {
      "cell_type": "code",
      "source": [
        "reshaped_array = original_array.reshape(3,4)\n"
      ],
      "metadata": {
        "id": "cX0nJJ0q77B-"
      },
      "execution_count": 15,
      "outputs": []
    },
    {
      "cell_type": "markdown",
      "source": [
        "General Format: np.resize(array, new_shape)\n",
        "Key Notes:\n",
        "Returns a new array with the specified shape.\n",
        "new_shape: Tuple indicating the desired dimensions.\n",
        "If the new size is larger, the array is repeated to fill the new shape.\n",
        "If smaller, the array is truncated.\n"
      ],
      "metadata": {
        "id": "TvkCo_Q98m27"
      }
    },
    {
      "cell_type": "code",
      "source": [
        "resized_array = np.resize(original_array,(6,2))\n"
      ],
      "metadata": {
        "id": "O8j8eXno760L"
      },
      "execution_count": 16,
      "outputs": []
    },
    {
      "cell_type": "markdown",
      "source": [
        "General Format: array.flatten()\n",
        "Key Notes:\n",
        "Returns a copy of the array collapsed into one dimension.\n",
        "The result is a new 1D array; original array remains unchanged."
      ],
      "metadata": {
        "id": "dJJQJHYY8qeM"
      }
    },
    {
      "cell_type": "code",
      "source": [
        "flattened_array = reshaped_array.flatten()"
      ],
      "metadata": {
        "id": "mGMc6zF976o-"
      },
      "execution_count": 17,
      "outputs": []
    },
    {
      "cell_type": "markdown",
      "source": [
        "General Format: array[start_row:end_row, start_col:end_col]\n",
        "Key Notes:\n",
        "\n",
        "**Slicing Rows:**\n",
        "\n",
        "1.start_row: Starting index (inclusive).\n",
        "end_row: Ending index (exclusive).\n",
        "\n",
        "2.: alone means start or end to the limit of the dimension.\n",
        "\n",
        "**Slicing Columns:**\n",
        "1.start_col: Starting index (inclusive).\n",
        "\n",
        "2.end_col: Ending index (exclusive).\n",
        "\n",
        "3.Indices are zero-based: The first element has an index of 0.\n",
        "array[1:, 2:]:\n",
        "\n",
        "\n",
        "Rows: From index 1 to the end.\n",
        "Columns: From index 2 to the end"
      ],
      "metadata": {
        "id": "9qrB495480gT"
      }
    },
    {
      "cell_type": "code",
      "source": [
        "slice_array = reshaped_array[1:,2:]\n",
        "print(slice_array)"
      ],
      "metadata": {
        "colab": {
          "base_uri": "https://localhost:8080/"
        },
        "id": "ARDdrT07vkuT",
        "outputId": "36bd720a-94d0-4684-c053-aa1810fed47b"
      },
      "execution_count": 24,
      "outputs": [
        {
          "output_type": "stream",
          "name": "stdout",
          "text": [
            "[[ 6  7]\n",
            " [10 11]]\n"
          ]
        }
      ]
    },
    {
      "cell_type": "markdown",
      "source": [
        "**Syntax: bool_mask = array [comparison_operator] value**\n",
        "Generates a boolean array where each element is True if the condition is met, False otherwise\n",
        "\n",
        "**Syntax: filtered_array = array[bool_mask]**\n",
        " Selects elements from array where the corresponding value in bool_mask is True."
      ],
      "metadata": {
        "id": "NXU88AlXDQH2"
      }
    },
    {
      "cell_type": "code",
      "source": [
        "# Creating a boolean mask\n",
        "array =np.random.randint(low=0,high=100,size=10)\n",
        "bool_mask = array>50\n",
        "\n",
        "# Applying the mask to filter the array\n",
        "filtered_array = array[bool_mask]\n",
        "print(filtered_array)"
      ],
      "metadata": {
        "colab": {
          "base_uri": "https://localhost:8080/"
        },
        "id": "6SMju_7auvIk",
        "outputId": "b7eb77c5-e79d-4316-f95e-b5d829f42310"
      },
      "execution_count": 34,
      "outputs": [
        {
          "output_type": "stream",
          "name": "stdout",
          "text": [
            "[72 72 55 66 61 75 85]\n"
          ]
        }
      ]
    },
    {
      "cell_type": "code",
      "source": [],
      "metadata": {
        "id": "2xyDut-PuvE2"
      },
      "execution_count": null,
      "outputs": []
    }
  ]
}